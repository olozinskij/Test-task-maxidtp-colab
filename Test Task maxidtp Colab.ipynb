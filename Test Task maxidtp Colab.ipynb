{
  "nbformat": 4,
  "nbformat_minor": 0,
  "metadata": {
    "colab": {
      "provenance": []
    },
    "kernelspec": {
      "name": "python3",
      "display_name": "Python 3"
    },
    "language_info": {
      "name": "python"
    }
  },
  "cells": [
    {
      "cell_type": "code",
      "execution_count": null,
      "metadata": {
        "colab": {
          "base_uri": "https://localhost:8080/"
        },
        "id": "oCT88va9Xg_2",
        "outputId": "21740e77-2b3a-4965-905c-5695d7a286de"
      },
      "outputs": [
        {
          "output_type": "execute_result",
          "data": {
            "text/plain": [
              "{'update_to': '08.01.2023',\n",
              " 'r030': 840,\n",
              " 'cc': 'USD',\n",
              " 'txt': 'Долар США',\n",
              " 'enname': 'US Dollar',\n",
              " 'rate': 36.5686,\n",
              " 'units': 1,\n",
              " 'rate_per_unit': 36.5686,\n",
              " 'group': '1',\n",
              " 'update_from': '02.01.2023'}"
            ]
          },
          "metadata": {},
          "execution_count": 1
        }
      ],
      "source": [
        "{\n",
        "        \"update_to\": \"08.01.2023\",\n",
        "        \"r030\": 840,\n",
        "        \"cc\": \"USD\",\n",
        "        \"txt\": \"Долар США\",\n",
        "        \"enname\": \"US Dollar\",\n",
        "        \"rate\": 36.5686,\n",
        "        \"units\": 1,\n",
        "        \"rate_per_unit\": 36.5686,\n",
        "        \"group\": \"1\",\n",
        "        \"update_from\": \"02.01.2023\"\n",
        "    }"
      ]
    }
  ]
}